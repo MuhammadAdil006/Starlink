{
 "cells": [
  {
   "cell_type": "code",
   "execution_count": 16,
   "id": "ecd7983a",
   "metadata": {},
   "outputs": [
    {
     "name": "stdout",
     "output_type": "stream",
     "text": [
      "5\n",
      "[6, 7]\n"
     ]
    }
   ],
   "source": [
    "dict={}\n",
    "dict[5]=[]\n",
    "dict[5].append(6)\n",
    "dict[5].append(7)\n",
    "\n",
    "for j in dict:\n",
    "    print(j)\n",
    "    print(dict[j])"
   ]
  },
  {
   "cell_type": "code",
   "execution_count": 18,
   "id": "6afbac71",
   "metadata": {},
   "outputs": [
    {
     "name": "stdout",
     "output_type": "stream",
     "text": [
      "{5: [6, 7]}\n",
      "False\n"
     ]
    }
   ],
   "source": [
    "print(dict)\n",
    "\n",
    "print((dict.get(5) is None))\n"
   ]
  },
  {
   "cell_type": "code",
   "execution_count": 5,
   "id": "aae0ecdd",
   "metadata": {},
   "outputs": [
    {
     "name": "stdout",
     "output_type": "stream",
     "text": [
      "[[[0, 0], [0, 0], [0, 0], [0, 0], [0, 0]], [[0, 0], [0, 0], [0, 0], [0, 0], [0, 0]], [[0, 0], [0, 0], [0, 0], [0, 0], [0, 0]], [[0, 0], [0, 0], [0, 0], [0, 0], [0, 0]], [[0, 0], [0, 0], [0, 0], [0, 0], [0, 0]]]\n"
     ]
    }
   ],
   "source": [
    "# Using above second method to create a\n",
    "# 2D array\n",
    "rows, cols = (5, 5)\n",
    "arr = [[[0 for k in range(2)] for i in range(cols)] for j in range(rows)]\n",
    "print(arr)\n"
   ]
  },
  {
   "cell_type": "code",
   "execution_count": 6,
   "id": "caa28574",
   "metadata": {},
   "outputs": [],
   "source": [
    "arr[0][1][0]=23"
   ]
  },
  {
   "cell_type": "code",
   "execution_count": 20,
   "id": "9ca2a233",
   "metadata": {},
   "outputs": [
    {
     "name": "stdout",
     "output_type": "stream",
     "text": [
      "[[[0, 0], [23, 0], [0, 0], [0, 0], [0, 0]], [[0, 0], [0, 0], [0, 0], [0, 0], [0, 0]], [[0, 0], [0, 0], [0, 0], [0, 0], [0, 0]], [[0, 0], [0, 0], [0, 0], [0, 0], [0, 0]], [[0, 0], [0, 0], [0, 0], [0, 0], [0, 0]]]\n"
     ]
    }
   ],
   "source": [
    "print(arr)\n",
    "import enum"
   ]
  },
  {
   "cell_type": "code",
   "execution_count": 21,
   "id": "b35df31b",
   "metadata": {},
   "outputs": [],
   "source": [
    "class Color(enum.Enum):\n",
    "    \"\"\"A unique set of frequencies used to talk with a user.\"\"\"\n",
    "    A = 1\n",
    "    B = 2\n",
    "    C = 3\n",
    "    D = 4"
   ]
  },
  {
   "cell_type": "code",
   "execution_count": null,
   "id": "4e3f1b78",
   "metadata": {},
   "outputs": [],
   "source": []
  }
 ],
 "metadata": {
  "kernelspec": {
   "display_name": "Python 3 (ipykernel)",
   "language": "python",
   "name": "python3"
  },
  "language_info": {
   "codemirror_mode": {
    "name": "ipython",
    "version": 3
   },
   "file_extension": ".py",
   "mimetype": "text/x-python",
   "name": "python",
   "nbconvert_exporter": "python",
   "pygments_lexer": "ipython3",
   "version": "3.9.7"
  }
 },
 "nbformat": 4,
 "nbformat_minor": 5
}
